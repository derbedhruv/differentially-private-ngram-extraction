{
 "cells": [
  {
   "cell_type": "code",
   "execution_count": 25,
   "id": "92c2f441-1e72-431a-be2d-ee77d4b912fb",
   "metadata": {
    "scrolled": true
   },
   "outputs": [],
   "source": [
    "%%sh\n",
    "# run shell scripts to have an easy interface to experiment and get started with DPNE\n",
    "# This script runs a series of tokenization, ngram extraction, and DP N-gram extraction using the parameters specified as arguments\n",
    "# first argument = location of source file to extract DPNE from\n",
    "SOURCE_DATASET=\"./normalized_rephrased_wildchat_data.json\"\n",
    "\n",
    "# second argument = output folder high level\n",
    "OUTPUT_FOLDER=\"output_norm_wildchat10k_eps4\"\n",
    "\n",
    "# third argument = file extension - json or anything else.\n",
    "FILE_EXTENSION=\"json\"\n",
    "\n",
    "# fourth argument = epsilon for DP\n",
    "DP_EPSILON=\"4.0\"\n",
    "\n",
    "# fifth argument = the highest N in n-grams to DP-extract\n",
    "NGRAM_SIZE_LIMIT=\"10\"\n",
    "\n",
    "#spark-submit dpne/tokenize_text.py -f json --ngrams $NGRAM_SIZE_LIMIT --max_num_tokens 400 --allow_multiple_ngrams 1 -i $SOURCE_DATASET -o ./$OUTPUT_FOLDER/tokenize_text -t $FILE_EXTENSION\n",
    "\n",
    "#spark-submit dpne/split_ngrams.py --ngram_size $NGRAM_SIZE_LIMIT -i ./$OUTPUT_FOLDER/tokenize_text -o ./$OUTPUT_FOLDER/split_ngrams -f $FILE_EXTENSION -t $FILE_EXTENSION\n",
    "\n",
    "# modified the hyperparams a bit\n",
    "spark-submit dpne/extract_dpne.py --dp_epsilon $DP_EPSILON --dp_eta 0.1 --dp_delta 0.5 --contribution_limit 10 --persist_flags 11 --log_flags 00 --top_k 1 --delta_user_count 0 --ngram_size $NGRAM_SIZE_LIMIT --filter_one_side 0 --budget_distribute 10.0 --estimate_sample_size 0.8 -i ./$OUTPUT_FOLDER/split_ngrams -o ./$OUTPUT_FOLDER/dpne_sample -f $FILE_EXTENSION -t $FILE_EXTENSION\n"
   ]
  },
  {
   "cell_type": "code",
   "execution_count": 11,
   "id": "f868084b-5780-493f-8137-359221f1f05f",
   "metadata": {},
   "outputs": [],
   "source": []
  },
  {
   "cell_type": "code",
   "execution_count": null,
   "id": "3bb487e3-27da-41dc-ac9a-791bf7364f8a",
   "metadata": {},
   "outputs": [],
   "source": []
  }
 ],
 "metadata": {
  "kernelspec": {
   "display_name": "Python 3 (ipykernel)",
   "language": "python",
   "name": "python3"
  },
  "language_info": {
   "codemirror_mode": {
    "name": "ipython",
    "version": 3
   },
   "file_extension": ".py",
   "mimetype": "text/x-python",
   "name": "python",
   "nbconvert_exporter": "python",
   "pygments_lexer": "ipython3",
   "version": "3.11.6"
  }
 },
 "nbformat": 4,
 "nbformat_minor": 5
}
