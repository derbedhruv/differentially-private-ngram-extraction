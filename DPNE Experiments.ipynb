{
 "cells": [
  {
   "cell_type": "code",
   "execution_count": 5,
   "id": "92c2f441-1e72-431a-be2d-ee77d4b912fb",
   "metadata": {
    "scrolled": true
   },
   "outputs": [
    {
     "name": "stdout",
     "output_type": "stream",
     "text": [
      "SystemLog:INFO:root:2024-09-20 17:01:11.301186\tINFO\tRead parameters...\n",
      "SystemLog:INFO:root:2024-09-20 17:01:11.303190\tINFO\tFinished reading parameters.\n",
      "SystemLog:INFO:root:2024-09-20 17:01:11.303319\tINFO\t2024-09-20 17:01:11\n"
     ]
    },
    {
     "name": "stderr",
     "output_type": "stream",
     "text": [
      "24/09/20 17:01:11 INFO SparkContext: Running Spark version 3.5.0\n",
      "24/09/20 17:01:11 INFO SparkContext: OS info Linux, 5.15.153.1-microsoft-standard-WSL2, amd64\n",
      "24/09/20 17:01:11 INFO SparkContext: Java version 17.0.8.1\n",
      "24/09/20 17:01:11 WARN NativeCodeLoader: Unable to load native-hadoop library for your platform... using builtin-java classes where applicable\n",
      "24/09/20 17:01:11 INFO ResourceUtils: ==============================================================\n",
      "24/09/20 17:01:11 INFO ResourceUtils: No custom resources configured for spark.driver.\n",
      "24/09/20 17:01:11 INFO ResourceUtils: ==============================================================\n",
      "24/09/20 17:01:11 INFO SparkContext: Submitted application: DPNE_/home/jovyan/differentially-private-ngram-extraction/dpne/extract_dpne.py_2024-09-20 17:01:11\n",
      "24/09/20 17:01:11 INFO ResourceProfile: Default ResourceProfile created, executor resources: Map(cores -> name: cores, amount: 1, script: , vendor: , memory -> name: memory, amount: 1024, script: , vendor: , offHeap -> name: offHeap, amount: 0, script: , vendor: ), task resources: Map(cpus -> name: cpus, amount: 1.0)\n",
      "24/09/20 17:01:11 INFO ResourceProfile: Limiting resource is cpu\n",
      "24/09/20 17:01:11 INFO ResourceProfileManager: Added ResourceProfile id: 0\n",
      "24/09/20 17:01:11 INFO SecurityManager: Changing view acls to: jovyan\n",
      "24/09/20 17:01:11 INFO SecurityManager: Changing modify acls to: jovyan\n",
      "24/09/20 17:01:11 INFO SecurityManager: Changing view acls groups to: \n",
      "24/09/20 17:01:11 INFO SecurityManager: Changing modify acls groups to: \n",
      "24/09/20 17:01:11 INFO SecurityManager: SecurityManager: authentication disabled; ui acls disabled; users with view permissions: jovyan; groups with view permissions: EMPTY; users with modify permissions: jovyan; groups with modify permissions: EMPTY\n",
      "24/09/20 17:01:12 INFO Utils: Successfully started service 'sparkDriver' on port 35363.\n",
      "24/09/20 17:01:12 INFO SparkEnv: Registering MapOutputTracker\n",
      "24/09/20 17:01:12 INFO SparkEnv: Registering BlockManagerMaster\n",
      "24/09/20 17:01:12 INFO BlockManagerMasterEndpoint: Using org.apache.spark.storage.DefaultTopologyMapper for getting topology information\n",
      "24/09/20 17:01:12 INFO BlockManagerMasterEndpoint: BlockManagerMasterEndpoint up\n",
      "24/09/20 17:01:12 INFO SparkEnv: Registering BlockManagerMasterHeartbeat\n",
      "24/09/20 17:01:12 INFO DiskBlockManager: Created local directory at /tmp/blockmgr-7cbebe3c-fcc8-4d45-b09f-84591d73e3e1\n",
      "24/09/20 17:01:12 INFO MemoryStore: MemoryStore started with capacity 434.4 MiB\n",
      "24/09/20 17:01:12 INFO SparkEnv: Registering OutputCommitCoordinator\n",
      "24/09/20 17:01:12 INFO JettyUtils: Start Jetty 0.0.0.0:4040 for SparkUI\n",
      "24/09/20 17:01:12 INFO Utils: Successfully started service 'SparkUI' on port 4040.\n",
      "24/09/20 17:01:12 INFO Executor: Starting executor ID driver on host abe1c2231672\n",
      "24/09/20 17:01:12 INFO Executor: OS info Linux, 5.15.153.1-microsoft-standard-WSL2, amd64\n",
      "24/09/20 17:01:12 INFO Executor: Java version 17.0.8.1\n",
      "24/09/20 17:01:12 INFO Executor: Starting executor with user classpath (userClassPathFirst = false): ''\n",
      "24/09/20 17:01:12 INFO Executor: Created or updated repl class loader org.apache.spark.util.MutableURLClassLoader@6fe3e1f3 for default.\n",
      "24/09/20 17:01:12 INFO Utils: Successfully started service 'org.apache.spark.network.netty.NettyBlockTransferService' on port 41141.\n",
      "24/09/20 17:01:12 INFO NettyBlockTransferService: Server created on abe1c2231672:41141\n",
      "24/09/20 17:01:12 INFO BlockManager: Using org.apache.spark.storage.RandomBlockReplicationPolicy for block replication policy\n",
      "24/09/20 17:01:12 INFO BlockManagerMaster: Registering BlockManager BlockManagerId(driver, abe1c2231672, 41141, None)\n",
      "24/09/20 17:01:12 INFO BlockManagerMasterEndpoint: Registering block manager abe1c2231672:41141 with 434.4 MiB RAM, BlockManagerId(driver, abe1c2231672, 41141, None)\n",
      "24/09/20 17:01:12 INFO BlockManagerMaster: Registered BlockManager BlockManagerId(driver, abe1c2231672, 41141, None)\n",
      "24/09/20 17:01:12 INFO BlockManager: Initialized BlockManager: BlockManagerId(driver, abe1c2231672, 41141, None)\n"
     ]
    },
    {
     "name": "stdout",
     "output_type": "stream",
     "text": [
      "SystemLog:INFO:root:2024-09-20 17:01:13.054075\tINFO\tInput file type is json\n",
      "SystemLog:INFO:root:2024-09-20 17:01:18.555264\tINFO\tSampling top k n-grams instead of random sampling from each user..\n",
      "SystemLog:INFO:root:2024-09-20 17:01:19.583556\tINFO\ttotal 1-grams: 138098\n",
      "SystemLog:INFO:root:2024-09-20 17:01:21.037407\tINFO\tdstinct # of n-grams: 12179\n",
      "SystemLog:INFO:root:2024-09-20 17:01:21.236128\tINFO\tselected sigma value for Gaussian: 0.397390428948983\n",
      "SystemLog:INFO:root:2024-09-20 17:01:21.238963\tINFO\tParams Delta_0=10, delta=5.00e-01, g_param=1.2566588758300987, g_rho=2.7107759957247493\n"
     ]
    },
    {
     "name": "stderr",
     "output_type": "stream",
     "text": [
      "24/09/20 17:01:26 WARN CacheManager: Asked to cache already cached data.\n"
     ]
    },
    {
     "name": "stdout",
     "output_type": "stream",
     "text": [
      "SystemLog:INFO:root:2024-09-20 17:01:26.945301\tINFO\tRetrieved 1-gram: 520\n",
      "SystemLog:INFO:root:2024-09-20 17:01:26.945538\tINFO\tTrying to write to ./output_norm_wildchat10k_eps4/dpne_sample/1gram\n",
      "SystemLog:INFO:root:2024-09-20 17:01:27.368453\tINFO\tInput file type is json\n",
      "SystemLog:INFO:root:2024-09-20 17:01:27.535463\tINFO\tInput file type is json\n",
      "SystemLog:INFO:root:2024-09-20 17:01:27.641649\tINFO\tInput file type is json\n",
      "SystemLog:INFO:root:2024-09-20 17:01:27.849701\tINFO\tSampling top k n-grams instead of random sampling from each user..\n",
      "SystemLog:INFO:root:2024-09-20 17:01:28.069944\tINFO\ttotal 2-grams: 128201\n",
      "SystemLog:INFO:root:2024-09-20 17:01:28.517275\tINFO\tn-grams to check: 216225\n"
     ]
    },
    {
     "name": "stderr",
     "output_type": "stream",
     "text": [
      "24/09/20 17:01:28 WARN ExtractPythonUDFFromJoinCondition: The join condition:isnotnull(extract_ngrams_to_validate(concat(ngrams#351,  , ngrams#373))#419) of the join plan contains PythonUDF only, it will be moved out and the join plan will be turned to cross join.\n"
     ]
    },
    {
     "name": "stdout",
     "output_type": "stream",
     "text": [
      "SystemLog:INFO:root:2024-09-20 17:01:31.291659\tINFO\testimated valid # of n-grams: 270401\n",
      "SystemLog:INFO:root:2024-09-20 17:01:31.293420\tINFO\tselected sigma value for Gaussian: 0.397390428948983\n",
      "SystemLog:INFO:root:2024-09-20 17:01:31.294263\tINFO\tParams Delta_0=10, delta=5.00e-01, g_param=1.2566588758300987, g_rho=4.461669428110304\n",
      "SystemLog:INFO:root:2024-09-20 17:01:31.768508\tINFO\tdstinct # of n-grams: 56394\n",
      "SystemLog:INFO:root:2024-09-20 17:01:34.790431\tINFO\tactual valid # of n-grams: 7688\n",
      "SystemLog:INFO:root:2024-09-20 17:01:38.137061\tINFO\tadding spurious n-grams: 55\n",
      "SystemLog:INFO:root:2024-09-20 17:01:39.790258\tINFO\tRetrieved 2-gram: 287\n",
      "SystemLog:INFO:root:2024-09-20 17:01:39.790443\tINFO\tTrying to write to ./output_norm_wildchat10k_eps4/dpne_sample/2gram\n",
      "SystemLog:INFO:root:2024-09-20 17:01:40.054681\tINFO\tInput file type is json\n",
      "SystemLog:INFO:root:2024-09-20 17:01:40.159899\tINFO\tInput file type is json\n",
      "SystemLog:INFO:root:2024-09-20 17:01:40.245787\tINFO\tInput file type is json\n",
      "SystemLog:INFO:root:2024-09-20 17:01:40.441261\tINFO\tSampling top k n-grams instead of random sampling from each user..\n",
      "SystemLog:INFO:root:2024-09-20 17:01:40.632978\tINFO\ttotal 3-grams: 118365\n",
      "SystemLog:INFO:root:2024-09-20 17:01:40.914758\tINFO\tn-grams to check: 119040\n"
     ]
    },
    {
     "name": "stderr",
     "output_type": "stream",
     "text": [
      "24/09/20 17:01:40 WARN ExtractPythonUDFFromJoinCondition: The join condition:isnotnull(extract_ngrams_to_validate(concat(ngrams#1254,  , ngrams#1276))#1322) of the join plan contains PythonUDF only, it will be moved out and the join plan will be turned to cross join.\n"
     ]
    },
    {
     "name": "stdout",
     "output_type": "stream",
     "text": [
      "SystemLog:INFO:root:2024-09-20 17:01:42.197680\tINFO\testimated valid # of n-grams: 1144\n",
      "SystemLog:INFO:root:2024-09-20 17:01:42.198613\tINFO\tselected sigma value for Gaussian: 0.397390428948983\n",
      "SystemLog:INFO:root:2024-09-20 17:01:42.199135\tINFO\tParams Delta_0=10, delta=5.00e-01, g_param=1.2566588758300987, g_rho=2.4611293811457884\n",
      "SystemLog:INFO:root:2024-09-20 17:01:42.730069\tINFO\tdstinct # of n-grams: 78645\n",
      "SystemLog:INFO:root:2024-09-20 17:01:43.678086\tINFO\tactual valid # of n-grams: 598\n",
      "SystemLog:INFO:root:2024-09-20 17:01:46.139326\tINFO\tadding spurious n-grams: 30\n",
      "SystemLog:INFO:root:2024-09-20 17:01:47.399022\tINFO\tRetrieved 3-gram: 280\n",
      "SystemLog:INFO:root:2024-09-20 17:01:47.399265\tINFO\tTrying to write to ./output_norm_wildchat10k_eps4/dpne_sample/3gram\n",
      "SystemLog:INFO:root:2024-09-20 17:01:47.606420\tINFO\tInput file type is json\n",
      "SystemLog:INFO:root:2024-09-20 17:01:47.716235\tINFO\tInput file type is json\n",
      "SystemLog:INFO:root:2024-09-20 17:01:47.803319\tINFO\tInput file type is json\n",
      "SystemLog:INFO:root:2024-09-20 17:01:47.955728\tINFO\tSampling top k n-grams instead of random sampling from each user..\n",
      "SystemLog:INFO:root:2024-09-20 17:01:48.114424\tINFO\ttotal 4-grams: 108532\n",
      "SystemLog:INFO:root:2024-09-20 17:01:48.369381\tINFO\tn-grams to check: 116250\n"
     ]
    },
    {
     "name": "stderr",
     "output_type": "stream",
     "text": [
      "24/09/20 17:01:48 WARN ExtractPythonUDFFromJoinCondition: The join condition:isnotnull(extract_ngrams_to_validate(concat(ngrams#2157,  , ngrams#2179))#2225) of the join plan contains PythonUDF only, it will be moved out and the join plan will be turned to cross join.\n"
     ]
    },
    {
     "name": "stdout",
     "output_type": "stream",
     "text": [
      "SystemLog:INFO:root:2024-09-20 17:01:49.748928\tINFO\testimated valid # of n-grams: 401\n",
      "SystemLog:INFO:root:2024-09-20 17:01:49.750538\tINFO\tselected sigma value for Gaussian: 0.397390428948983\n",
      "SystemLog:INFO:root:2024-09-20 17:01:49.751464\tINFO\tParams Delta_0=10, delta=5.00e-01, g_param=1.2566588758300987, g_rho=1.8562012640402747\n",
      "SystemLog:INFO:root:2024-09-20 17:01:50.243796\tINFO\tdstinct # of n-grams: 84159\n",
      "SystemLog:INFO:root:2024-09-20 17:01:51.071153\tINFO\tactual valid # of n-grams: 332\n",
      "SystemLog:INFO:root:2024-09-20 17:01:53.071609\tINFO\tadding spurious n-grams: 4\n",
      "SystemLog:INFO:root:2024-09-20 17:01:54.265161\tINFO\tRetrieved 4-gram: 228\n",
      "SystemLog:INFO:root:2024-09-20 17:01:54.265344\tINFO\tTrying to write to ./output_norm_wildchat10k_eps4/dpne_sample/4gram\n",
      "SystemLog:INFO:root:2024-09-20 17:01:54.486630\tINFO\tInput file type is json\n",
      "SystemLog:INFO:root:2024-09-20 17:01:54.607421\tINFO\tInput file type is json\n",
      "SystemLog:INFO:root:2024-09-20 17:01:54.697714\tINFO\tInput file type is json\n",
      "SystemLog:INFO:root:2024-09-20 17:01:54.884072\tINFO\tSampling top k n-grams instead of random sampling from each user..\n",
      "SystemLog:INFO:root:2024-09-20 17:01:55.037358\tINFO\ttotal 5-grams: 98701\n",
      "SystemLog:INFO:root:2024-09-20 17:01:55.272189\tINFO\tn-grams to check: 94395\n"
     ]
    },
    {
     "name": "stderr",
     "output_type": "stream",
     "text": [
      "24/09/20 17:01:55 WARN ExtractPythonUDFFromJoinCondition: The join condition:isnotnull(extract_ngrams_to_validate(concat(ngrams#3060,  , ngrams#3082))#3128) of the join plan contains PythonUDF only, it will be moved out and the join plan will be turned to cross join.\n"
     ]
    },
    {
     "name": "stdout",
     "output_type": "stream",
     "text": [
      "SystemLog:INFO:root:2024-09-20 17:01:56.403319\tINFO\testimated valid # of n-grams: 267\n",
      "SystemLog:INFO:root:2024-09-20 17:01:56.404260\tINFO\tselected sigma value for Gaussian: 0.397390428948983\n",
      "SystemLog:INFO:root:2024-09-20 17:01:56.404800\tINFO\tParams Delta_0=10, delta=5.00e-01, g_param=1.2566588758300987, g_rho=1.7212217269431669\n",
      "SystemLog:INFO:root:2024-09-20 17:01:56.925300\tINFO\tdstinct # of n-grams: 84496\n",
      "SystemLog:INFO:root:2024-09-20 17:01:57.686025\tINFO\tactual valid # of n-grams: 230\n",
      "SystemLog:INFO:root:2024-09-20 17:01:59.881176\tINFO\tadding spurious n-grams: 3\n",
      "SystemLog:INFO:root:2024-09-20 17:02:00.891327\tINFO\tRetrieved 5-gram: 180\n",
      "SystemLog:INFO:root:2024-09-20 17:02:00.891508\tINFO\tTrying to write to ./output_norm_wildchat10k_eps4/dpne_sample/5gram\n",
      "SystemLog:INFO:root:2024-09-20 17:02:01.070735\tINFO\tInput file type is json\n",
      "SystemLog:INFO:root:2024-09-20 17:02:01.162392\tINFO\tInput file type is json\n",
      "SystemLog:INFO:root:2024-09-20 17:02:01.240699\tINFO\tInput file type is json\n",
      "SystemLog:INFO:root:2024-09-20 17:02:01.363176\tINFO\tSampling top k n-grams instead of random sampling from each user..\n",
      "SystemLog:INFO:root:2024-09-20 17:02:01.484415\tINFO\ttotal 6-grams: 88897\n",
      "SystemLog:INFO:root:2024-09-20 17:02:01.725799\tINFO\tn-grams to check: 74400\n"
     ]
    },
    {
     "name": "stderr",
     "output_type": "stream",
     "text": [
      "24/09/20 17:02:01 WARN ExtractPythonUDFFromJoinCondition: The join condition:isnotnull(extract_ngrams_to_validate(concat(ngrams#3963,  , ngrams#3985))#4031) of the join plan contains PythonUDF only, it will be moved out and the join plan will be turned to cross join.\n"
     ]
    },
    {
     "name": "stdout",
     "output_type": "stream",
     "text": [
      "SystemLog:INFO:root:2024-09-20 17:02:02.656655\tINFO\testimated valid # of n-grams: 146\n",
      "SystemLog:INFO:root:2024-09-20 17:02:02.657560\tINFO\tselected sigma value for Gaussian: 0.397390428948983\n",
      "SystemLog:INFO:root:2024-09-20 17:02:02.658059\tINFO\tParams Delta_0=10, delta=5.00e-01, g_param=1.2566588758300987, g_rho=1.6104731496755806\n",
      "SystemLog:INFO:root:2024-09-20 17:02:03.145407\tINFO\tdstinct # of n-grams: 81724\n",
      "SystemLog:INFO:root:2024-09-20 17:02:03.968522\tINFO\tactual valid # of n-grams: 115\n",
      "SystemLog:INFO:root:2024-09-20 17:02:06.237665\tINFO\tadding spurious n-grams: 3\n",
      "SystemLog:INFO:root:2024-09-20 17:02:07.329605\tINFO\tRetrieved 6-gram: 106\n",
      "SystemLog:INFO:root:2024-09-20 17:02:07.329838\tINFO\tTrying to write to ./output_norm_wildchat10k_eps4/dpne_sample/6gram\n",
      "SystemLog:INFO:root:2024-09-20 17:02:07.501122\tINFO\tInput file type is json\n",
      "SystemLog:INFO:root:2024-09-20 17:02:07.583563\tINFO\tInput file type is json\n",
      "SystemLog:INFO:root:2024-09-20 17:02:07.643675\tINFO\tInput file type is json\n",
      "SystemLog:INFO:root:2024-09-20 17:02:07.762826\tINFO\tSampling top k n-grams instead of random sampling from each user..\n",
      "SystemLog:INFO:root:2024-09-20 17:02:07.909254\tINFO\ttotal 7-grams: 79143\n",
      "SystemLog:INFO:root:2024-09-20 17:02:08.128309\tINFO\tn-grams to check: 43710\n"
     ]
    },
    {
     "name": "stderr",
     "output_type": "stream",
     "text": [
      "24/09/20 17:02:08 WARN ExtractPythonUDFFromJoinCondition: The join condition:isnotnull(extract_ngrams_to_validate(concat(ngrams#4866,  , ngrams#4888))#4934) of the join plan contains PythonUDF only, it will be moved out and the join plan will be turned to cross join.\n"
     ]
    },
    {
     "name": "stdout",
     "output_type": "stream",
     "text": [
      "SystemLog:INFO:root:2024-09-20 17:02:08.957619\tINFO\testimated valid # of n-grams: 47\n",
      "SystemLog:INFO:root:2024-09-20 17:02:08.958537\tINFO\tselected sigma value for Gaussian: 0.397390428948983\n",
      "SystemLog:INFO:root:2024-09-20 17:02:08.959109\tINFO\tParams Delta_0=10, delta=5.00e-01, g_param=1.2566588758300987, g_rho=1.6104731496755806\n",
      "SystemLog:INFO:root:2024-09-20 17:02:09.422846\tINFO\tdstinct # of n-grams: 76141\n",
      "SystemLog:INFO:root:2024-09-20 17:02:10.242648\tINFO\tactual valid # of n-grams: 44\n",
      "SystemLog:INFO:root:2024-09-20 17:02:12.487993\tINFO\tadding spurious n-grams: 1\n",
      "SystemLog:INFO:root:2024-09-20 17:02:13.617638\tINFO\tRetrieved 7-gram: 38\n",
      "SystemLog:INFO:root:2024-09-20 17:02:13.617849\tINFO\tTrying to write to ./output_norm_wildchat10k_eps4/dpne_sample/7gram\n",
      "SystemLog:INFO:root:2024-09-20 17:02:13.831890\tINFO\tInput file type is json\n",
      "SystemLog:INFO:root:2024-09-20 17:02:13.921925\tINFO\tInput file type is json\n",
      "SystemLog:INFO:root:2024-09-20 17:02:13.987409\tINFO\tInput file type is json\n",
      "SystemLog:INFO:root:2024-09-20 17:02:14.118547\tINFO\tSampling top k n-grams instead of random sampling from each user..\n",
      "SystemLog:INFO:root:2024-09-20 17:02:14.258132\tINFO\ttotal 8-grams: 69459\n",
      "SystemLog:INFO:root:2024-09-20 17:02:14.472192\tINFO\tn-grams to check: 15345\n"
     ]
    },
    {
     "name": "stderr",
     "output_type": "stream",
     "text": [
      "24/09/20 17:02:14 WARN ExtractPythonUDFFromJoinCondition: The join condition:isnotnull(extract_ngrams_to_validate(concat(ngrams#5769,  , ngrams#5791))#5837) of the join plan contains PythonUDF only, it will be moved out and the join plan will be turned to cross join.\n"
     ]
    },
    {
     "name": "stdout",
     "output_type": "stream",
     "text": [
      "SystemLog:INFO:root:2024-09-20 17:02:15.092353\tINFO\testimated valid # of n-grams: 21\n",
      "SystemLog:INFO:root:2024-09-20 17:02:15.095169\tINFO\tselected sigma value for Gaussian: 0.397390428948983\n",
      "SystemLog:INFO:root:2024-09-20 17:02:15.095998\tINFO\tParams Delta_0=10, delta=5.00e-01, g_param=1.2566588758300987, g_rho=1.6104731496755806\n",
      "SystemLog:INFO:root:2024-09-20 17:02:15.570288\tINFO\tdstinct # of n-grams: 68105\n",
      "SystemLog:INFO:root:2024-09-20 17:02:16.348344\tINFO\tactual valid # of n-grams: 15\n",
      "SystemLog:INFO:root:2024-09-20 17:02:17.992262\tINFO\tadding spurious n-grams: 0\n"
     ]
    },
    {
     "name": "stderr",
     "output_type": "stream",
     "text": [
      "24/09/20 17:02:18 WARN CacheManager: Asked to cache already cached data.\n"
     ]
    },
    {
     "name": "stdout",
     "output_type": "stream",
     "text": [
      "SystemLog:INFO:root:2024-09-20 17:02:18.221674\tINFO\tRetrieved 8-gram: 13\n",
      "SystemLog:INFO:root:2024-09-20 17:02:18.221969\tINFO\tTrying to write to ./output_norm_wildchat10k_eps4/dpne_sample/8gram\n",
      "SystemLog:INFO:root:2024-09-20 17:02:18.415685\tINFO\tInput file type is json\n",
      "SystemLog:INFO:root:2024-09-20 17:02:18.503133\tINFO\tInput file type is json\n",
      "SystemLog:INFO:root:2024-09-20 17:02:18.583600\tINFO\tInput file type is json\n",
      "SystemLog:INFO:root:2024-09-20 17:02:18.716292\tINFO\tSampling top k n-grams instead of random sampling from each user..\n",
      "SystemLog:INFO:root:2024-09-20 17:02:18.853205\tINFO\ttotal 9-grams: 59909\n",
      "SystemLog:INFO:root:2024-09-20 17:02:19.051514\tINFO\tn-grams to check: 5115\n"
     ]
    },
    {
     "name": "stderr",
     "output_type": "stream",
     "text": [
      "24/09/20 17:02:19 WARN ExtractPythonUDFFromJoinCondition: The join condition:isnotnull(extract_ngrams_to_validate(concat(ngrams#6316,  , ngrams#6338))#6384) of the join plan contains PythonUDF only, it will be moved out and the join plan will be turned to cross join.\n"
     ]
    },
    {
     "name": "stdout",
     "output_type": "stream",
     "text": [
      "SystemLog:INFO:root:2024-09-20 17:02:19.582071\tINFO\testimated valid # of n-grams: 3\n",
      "SystemLog:INFO:root:2024-09-20 17:02:19.583314\tINFO\tselected sigma value for Gaussian: 0.397390428948983\n",
      "SystemLog:INFO:root:2024-09-20 17:02:19.583855\tINFO\tParams Delta_0=10, delta=5.00e-01, g_param=1.2566588758300987, g_rho=1.6104731496755806\n",
      "SystemLog:INFO:root:2024-09-20 17:02:20.083252\tINFO\tdstinct # of n-grams: 59280\n",
      "SystemLog:INFO:root:2024-09-20 17:02:20.806940\tINFO\tactual valid # of n-grams: 3\n",
      "SystemLog:INFO:root:2024-09-20 17:02:22.735241\tINFO\tadding spurious n-grams: 0\n"
     ]
    },
    {
     "name": "stderr",
     "output_type": "stream",
     "text": [
      "24/09/20 17:02:22 WARN CacheManager: Asked to cache already cached data.\n"
     ]
    },
    {
     "name": "stdout",
     "output_type": "stream",
     "text": [
      "SystemLog:INFO:root:2024-09-20 17:02:22.968289\tINFO\tRetrieved 9-gram: 3\n",
      "SystemLog:INFO:root:2024-09-20 17:02:22.968668\tINFO\tTrying to write to ./output_norm_wildchat10k_eps4/dpne_sample/9gram\n",
      "SystemLog:INFO:root:2024-09-20 17:02:23.138981\tINFO\tInput file type is json\n",
      "SystemLog:INFO:root:2024-09-20 17:02:23.243706\tINFO\tInput file type is json\n",
      "SystemLog:INFO:root:2024-09-20 17:02:23.348922\tINFO\tInput file type is json\n",
      "SystemLog:INFO:root:2024-09-20 17:02:23.474257\tINFO\tSampling top k n-grams instead of random sampling from each user..\n",
      "SystemLog:INFO:root:2024-09-20 17:02:23.599903\tINFO\ttotal 10-grams: 50593\n",
      "SystemLog:INFO:root:2024-09-20 17:02:23.828742\tINFO\tn-grams to check: 930\n"
     ]
    },
    {
     "name": "stderr",
     "output_type": "stream",
     "text": [
      "24/09/20 17:02:23 WARN ExtractPythonUDFFromJoinCondition: The join condition:isnotnull(extract_ngrams_to_validate(concat(ngrams#6863,  , ngrams#6885))#6931) of the join plan contains PythonUDF only, it will be moved out and the join plan will be turned to cross join.\n"
     ]
    },
    {
     "name": "stdout",
     "output_type": "stream",
     "text": [
      "SystemLog:INFO:root:2024-09-20 17:02:24.354754\tINFO\testimated valid # of n-grams: 1\n",
      "SystemLog:INFO:root:2024-09-20 17:02:24.356300\tINFO\tselected sigma value for Gaussian: 0.397390428948983\n",
      "SystemLog:INFO:root:2024-09-20 17:02:24.357169\tINFO\tParams Delta_0=10, delta=5.00e-01, g_param=1.2566588758300987, g_rho=1.6104731496755806\n",
      "SystemLog:INFO:root:2024-09-20 17:02:24.672985\tINFO\tdstinct # of n-grams: 50270\n",
      "SystemLog:INFO:root:2024-09-20 17:02:25.313382\tINFO\tactual valid # of n-grams: 0\n",
      "SystemLog:INFO:root:2024-09-20 17:02:26.273882\tINFO\tadding spurious n-grams: 0\n",
      "SystemLog: Traceback (most recent call last):\n",
      "SystemLog:   File \"/home/jovyan/differentially-private-ngram-extraction/dpne/extract_dpne.py\", line 383, in execute\n",
      "SystemLog:     ngrams_extracted.persist()\n",
      "SystemLog:     ^^^^^^^^^^^^^^^^^^^^^^^^\n",
      "SystemLog: AttributeError: SystemLog:**Exception message scrubbed**\n",
      "Traceback (most recent call last):\n",
      "  File \"/home/jovyan/differentially-private-ngram-extraction/dpne/extract_dpne.py\", line 420, in <module>\n",
      "    main()\n",
      "  File \"/home/jovyan/differentially-private-ngram-extraction/dpne/extract_dpne.py\", line 415, in main\n",
      "    execute(args)\n",
      "  File \"/opt/conda/lib/python3.11/site-packages/shrike/compliant_logging/exceptions.py\", line 407, in wrapper\n",
      "    print_prefixed_stack_trace_and_raise(\n",
      "  File \"/opt/conda/lib/python3.11/site-packages/shrike/compliant_logging/exceptions.py\", line 362, in print_prefixed_stack_trace_and_raise\n",
      "    raise scrubbed_err  # type: ignore\n",
      "    ^^^^^^^^^^^^^^^^^^\n",
      "  File \"/opt/conda/lib/python3.11/site-packages/shrike/compliant_logging/exceptions.py\", line 402, in wrapper\n",
      "    return function(*func_args, **func_kwargs)\n",
      "           ^^^^^^^^^^^^^^^^^^^^^^^^^^^^^^^^^^^\n",
      "  File \"/home/jovyan/differentially-private-ngram-extraction/dpne/extract_dpne.py\", line 383, in execute\n",
      "    ngrams_extracted.persist()\n",
      "    ^^^^^^^^^^^^^^^^^^^^^^^^\n",
      "AttributeError: SystemLog:**Exception message scrubbed**\n"
     ]
    },
    {
     "ename": "CalledProcessError",
     "evalue": "Command 'b'# run shell scripts to have an easy interface to experiment and get started with DPNE\\n# This script runs a series of tokenization, ngram extraction, and DP N-gram extraction using the parameters specified as arguments\\n# first argument = location of source file to extract DPNE from\\nSOURCE_DATASET=\"./dpne/normalized_rephrased_wildchat_data.json\"\\n\\n# second argument = output folder high level\\nOUTPUT_FOLDER=\"output_norm_wildchat10k_eps4\"\\n\\n# third argument = file extension - json or anything else.\\nFILE_EXTENSION=\"json\"\\n\\n# fourth argument = epsilon for DP\\nDP_EPSILON=\"4.0\"\\n\\n# fifth argument = the highest N in n-grams to DP-extract\\nNGRAM_SIZE_LIMIT=\"10\"\\n\\n#spark-submit dpne/tokenize_text.py -f json --ngrams $NGRAM_SIZE_LIMIT --max_num_tokens 400 --allow_multiple_ngrams 1 -i $SOURCE_DATASET -o ./$OUTPUT_FOLDER/tokenize_text -t $FILE_EXTENSION\\n\\n#spark-submit dpne/split_ngrams.py --ngram_size $NGRAM_SIZE_LIMIT -i ./$OUTPUT_FOLDER/tokenize_text -o ./$OUTPUT_FOLDER/split_ngrams -f $FILE_EXTENSION -t $FILE_EXTENSION\\n\\n# modified the hyperparams a bit\\nspark-submit dpne/extract_dpne.py --dp_epsilon $DP_EPSILON --dp_eta 0.1 --dp_delta 0.5 --contribution_limit 10 --persist_flags 11 --log_flags 00 --top_k 1 --delta_user_count 0 --ngram_size $NGRAM_SIZE_LIMIT --filter_one_side 0 --budget_distribute 1.0 --estimate_sample_size 0.8 -i ./$OUTPUT_FOLDER/split_ngrams -o ./$OUTPUT_FOLDER/dpne_sample -f $FILE_EXTENSION -t $FILE_EXTENSION\\n'' returned non-zero exit status 1.",
     "output_type": "error",
     "traceback": [
      "\u001b[0;31m---------------------------------------------------------------------------\u001b[0m",
      "\u001b[0;31mCalledProcessError\u001b[0m                        Traceback (most recent call last)",
      "Cell \u001b[0;32mIn[5], line 1\u001b[0m\n\u001b[0;32m----> 1\u001b[0m \u001b[43mget_ipython\u001b[49m\u001b[43m(\u001b[49m\u001b[43m)\u001b[49m\u001b[38;5;241;43m.\u001b[39;49m\u001b[43mrun_cell_magic\u001b[49m\u001b[43m(\u001b[49m\u001b[38;5;124;43m'\u001b[39;49m\u001b[38;5;124;43msh\u001b[39;49m\u001b[38;5;124;43m'\u001b[39;49m\u001b[43m,\u001b[49m\u001b[43m \u001b[49m\u001b[38;5;124;43m'\u001b[39;49m\u001b[38;5;124;43m'\u001b[39;49m\u001b[43m,\u001b[49m\u001b[43m \u001b[49m\u001b[38;5;124;43m'\u001b[39;49m\u001b[38;5;124;43m# run shell scripts to have an easy interface to experiment and get started with DPNE\u001b[39;49m\u001b[38;5;130;43;01m\\n\u001b[39;49;00m\u001b[38;5;124;43m# This script runs a series of tokenization, ngram extraction, and DP N-gram extraction using the parameters specified as arguments\u001b[39;49m\u001b[38;5;130;43;01m\\n\u001b[39;49;00m\u001b[38;5;124;43m# first argument = location of source file to extract DPNE from\u001b[39;49m\u001b[38;5;130;43;01m\\n\u001b[39;49;00m\u001b[38;5;124;43mSOURCE_DATASET=\u001b[39;49m\u001b[38;5;124;43m\"\u001b[39;49m\u001b[38;5;124;43m./dpne/normalized_rephrased_wildchat_data.json\u001b[39;49m\u001b[38;5;124;43m\"\u001b[39;49m\u001b[38;5;130;43;01m\\n\u001b[39;49;00m\u001b[38;5;130;43;01m\\n\u001b[39;49;00m\u001b[38;5;124;43m# second argument = output folder high level\u001b[39;49m\u001b[38;5;130;43;01m\\n\u001b[39;49;00m\u001b[38;5;124;43mOUTPUT_FOLDER=\u001b[39;49m\u001b[38;5;124;43m\"\u001b[39;49m\u001b[38;5;124;43moutput_norm_wildchat10k_eps4\u001b[39;49m\u001b[38;5;124;43m\"\u001b[39;49m\u001b[38;5;130;43;01m\\n\u001b[39;49;00m\u001b[38;5;130;43;01m\\n\u001b[39;49;00m\u001b[38;5;124;43m# third argument = file extension - json or anything else.\u001b[39;49m\u001b[38;5;130;43;01m\\n\u001b[39;49;00m\u001b[38;5;124;43mFILE_EXTENSION=\u001b[39;49m\u001b[38;5;124;43m\"\u001b[39;49m\u001b[38;5;124;43mjson\u001b[39;49m\u001b[38;5;124;43m\"\u001b[39;49m\u001b[38;5;130;43;01m\\n\u001b[39;49;00m\u001b[38;5;130;43;01m\\n\u001b[39;49;00m\u001b[38;5;124;43m# fourth argument = epsilon for DP\u001b[39;49m\u001b[38;5;130;43;01m\\n\u001b[39;49;00m\u001b[38;5;124;43mDP_EPSILON=\u001b[39;49m\u001b[38;5;124;43m\"\u001b[39;49m\u001b[38;5;124;43m4.0\u001b[39;49m\u001b[38;5;124;43m\"\u001b[39;49m\u001b[38;5;130;43;01m\\n\u001b[39;49;00m\u001b[38;5;130;43;01m\\n\u001b[39;49;00m\u001b[38;5;124;43m# fifth argument = the highest N in n-grams to DP-extract\u001b[39;49m\u001b[38;5;130;43;01m\\n\u001b[39;49;00m\u001b[38;5;124;43mNGRAM_SIZE_LIMIT=\u001b[39;49m\u001b[38;5;124;43m\"\u001b[39;49m\u001b[38;5;124;43m10\u001b[39;49m\u001b[38;5;124;43m\"\u001b[39;49m\u001b[38;5;130;43;01m\\n\u001b[39;49;00m\u001b[38;5;130;43;01m\\n\u001b[39;49;00m\u001b[38;5;124;43m#spark-submit dpne/tokenize_text.py -f json --ngrams $NGRAM_SIZE_LIMIT --max_num_tokens 400 --allow_multiple_ngrams 1 -i $SOURCE_DATASET -o ./$OUTPUT_FOLDER/tokenize_text -t $FILE_EXTENSION\u001b[39;49m\u001b[38;5;130;43;01m\\n\u001b[39;49;00m\u001b[38;5;130;43;01m\\n\u001b[39;49;00m\u001b[38;5;124;43m#spark-submit dpne/split_ngrams.py --ngram_size $NGRAM_SIZE_LIMIT -i ./$OUTPUT_FOLDER/tokenize_text -o ./$OUTPUT_FOLDER/split_ngrams -f $FILE_EXTENSION -t $FILE_EXTENSION\u001b[39;49m\u001b[38;5;130;43;01m\\n\u001b[39;49;00m\u001b[38;5;130;43;01m\\n\u001b[39;49;00m\u001b[38;5;124;43m# modified the hyperparams a bit\u001b[39;49m\u001b[38;5;130;43;01m\\n\u001b[39;49;00m\u001b[38;5;124;43mspark-submit dpne/extract_dpne.py --dp_epsilon $DP_EPSILON --dp_eta 0.1 --dp_delta 0.5 --contribution_limit 10 --persist_flags 11 --log_flags 00 --top_k 1 --delta_user_count 0 --ngram_size $NGRAM_SIZE_LIMIT --filter_one_side 0 --budget_distribute 1.0 --estimate_sample_size 0.8 -i ./$OUTPUT_FOLDER/split_ngrams -o ./$OUTPUT_FOLDER/dpne_sample -f $FILE_EXTENSION -t $FILE_EXTENSION\u001b[39;49m\u001b[38;5;130;43;01m\\n\u001b[39;49;00m\u001b[38;5;124;43m'\u001b[39;49m\u001b[43m)\u001b[49m\n",
      "File \u001b[0;32m/opt/conda/lib/python3.11/site-packages/IPython/core/interactiveshell.py:2493\u001b[0m, in \u001b[0;36mInteractiveShell.run_cell_magic\u001b[0;34m(self, magic_name, line, cell)\u001b[0m\n\u001b[1;32m   2491\u001b[0m \u001b[38;5;28;01mwith\u001b[39;00m \u001b[38;5;28mself\u001b[39m\u001b[38;5;241m.\u001b[39mbuiltin_trap:\n\u001b[1;32m   2492\u001b[0m     args \u001b[38;5;241m=\u001b[39m (magic_arg_s, cell)\n\u001b[0;32m-> 2493\u001b[0m     result \u001b[38;5;241m=\u001b[39m \u001b[43mfn\u001b[49m\u001b[43m(\u001b[49m\u001b[38;5;241;43m*\u001b[39;49m\u001b[43margs\u001b[49m\u001b[43m,\u001b[49m\u001b[43m \u001b[49m\u001b[38;5;241;43m*\u001b[39;49m\u001b[38;5;241;43m*\u001b[39;49m\u001b[43mkwargs\u001b[49m\u001b[43m)\u001b[49m\n\u001b[1;32m   2495\u001b[0m \u001b[38;5;66;03m# The code below prevents the output from being displayed\u001b[39;00m\n\u001b[1;32m   2496\u001b[0m \u001b[38;5;66;03m# when using magics with decorator @output_can_be_silenced\u001b[39;00m\n\u001b[1;32m   2497\u001b[0m \u001b[38;5;66;03m# when the last Python token in the expression is a ';'.\u001b[39;00m\n\u001b[1;32m   2498\u001b[0m \u001b[38;5;28;01mif\u001b[39;00m \u001b[38;5;28mgetattr\u001b[39m(fn, magic\u001b[38;5;241m.\u001b[39mMAGIC_OUTPUT_CAN_BE_SILENCED, \u001b[38;5;28;01mFalse\u001b[39;00m):\n",
      "File \u001b[0;32m/opt/conda/lib/python3.11/site-packages/IPython/core/magics/script.py:154\u001b[0m, in \u001b[0;36mScriptMagics._make_script_magic.<locals>.named_script_magic\u001b[0;34m(line, cell)\u001b[0m\n\u001b[1;32m    152\u001b[0m \u001b[38;5;28;01melse\u001b[39;00m:\n\u001b[1;32m    153\u001b[0m     line \u001b[38;5;241m=\u001b[39m script\n\u001b[0;32m--> 154\u001b[0m \u001b[38;5;28;01mreturn\u001b[39;00m \u001b[38;5;28;43mself\u001b[39;49m\u001b[38;5;241;43m.\u001b[39;49m\u001b[43mshebang\u001b[49m\u001b[43m(\u001b[49m\u001b[43mline\u001b[49m\u001b[43m,\u001b[49m\u001b[43m \u001b[49m\u001b[43mcell\u001b[49m\u001b[43m)\u001b[49m\n",
      "File \u001b[0;32m/opt/conda/lib/python3.11/site-packages/IPython/core/magics/script.py:314\u001b[0m, in \u001b[0;36mScriptMagics.shebang\u001b[0;34m(self, line, cell)\u001b[0m\n\u001b[1;32m    309\u001b[0m \u001b[38;5;28;01mif\u001b[39;00m args\u001b[38;5;241m.\u001b[39mraise_error \u001b[38;5;129;01mand\u001b[39;00m p\u001b[38;5;241m.\u001b[39mreturncode \u001b[38;5;241m!=\u001b[39m \u001b[38;5;241m0\u001b[39m:\n\u001b[1;32m    310\u001b[0m     \u001b[38;5;66;03m# If we get here and p.returncode is still None, we must have\u001b[39;00m\n\u001b[1;32m    311\u001b[0m     \u001b[38;5;66;03m# killed it but not yet seen its return code. We don't wait for it,\u001b[39;00m\n\u001b[1;32m    312\u001b[0m     \u001b[38;5;66;03m# in case it's stuck in uninterruptible sleep. -9 = SIGKILL\u001b[39;00m\n\u001b[1;32m    313\u001b[0m     rc \u001b[38;5;241m=\u001b[39m p\u001b[38;5;241m.\u001b[39mreturncode \u001b[38;5;129;01mor\u001b[39;00m \u001b[38;5;241m-\u001b[39m\u001b[38;5;241m9\u001b[39m\n\u001b[0;32m--> 314\u001b[0m     \u001b[38;5;28;01mraise\u001b[39;00m CalledProcessError(rc, cell)\n",
      "\u001b[0;31mCalledProcessError\u001b[0m: Command 'b'# run shell scripts to have an easy interface to experiment and get started with DPNE\\n# This script runs a series of tokenization, ngram extraction, and DP N-gram extraction using the parameters specified as arguments\\n# first argument = location of source file to extract DPNE from\\nSOURCE_DATASET=\"./dpne/normalized_rephrased_wildchat_data.json\"\\n\\n# second argument = output folder high level\\nOUTPUT_FOLDER=\"output_norm_wildchat10k_eps4\"\\n\\n# third argument = file extension - json or anything else.\\nFILE_EXTENSION=\"json\"\\n\\n# fourth argument = epsilon for DP\\nDP_EPSILON=\"4.0\"\\n\\n# fifth argument = the highest N in n-grams to DP-extract\\nNGRAM_SIZE_LIMIT=\"10\"\\n\\n#spark-submit dpne/tokenize_text.py -f json --ngrams $NGRAM_SIZE_LIMIT --max_num_tokens 400 --allow_multiple_ngrams 1 -i $SOURCE_DATASET -o ./$OUTPUT_FOLDER/tokenize_text -t $FILE_EXTENSION\\n\\n#spark-submit dpne/split_ngrams.py --ngram_size $NGRAM_SIZE_LIMIT -i ./$OUTPUT_FOLDER/tokenize_text -o ./$OUTPUT_FOLDER/split_ngrams -f $FILE_EXTENSION -t $FILE_EXTENSION\\n\\n# modified the hyperparams a bit\\nspark-submit dpne/extract_dpne.py --dp_epsilon $DP_EPSILON --dp_eta 0.1 --dp_delta 0.5 --contribution_limit 10 --persist_flags 11 --log_flags 00 --top_k 1 --delta_user_count 0 --ngram_size $NGRAM_SIZE_LIMIT --filter_one_side 0 --budget_distribute 1.0 --estimate_sample_size 0.8 -i ./$OUTPUT_FOLDER/split_ngrams -o ./$OUTPUT_FOLDER/dpne_sample -f $FILE_EXTENSION -t $FILE_EXTENSION\\n'' returned non-zero exit status 1."
     ]
    }
   ],
   "source": [
    "%%sh\n",
    "# run shell scripts to have an easy interface to experiment and get started with DPNE\n",
    "# This script runs a series of tokenization, ngram extraction, and DP N-gram extraction using the parameters specified as arguments\n",
    "# first argument = location of source file to extract DPNE from\n",
    "SOURCE_DATASET=\"./dpne/normalized_rephrased_wildchat_data.json\"\n",
    "\n",
    "# second argument = output folder high level\n",
    "OUTPUT_FOLDER=\"output_norm_wildchat10k_eps4\"\n",
    "\n",
    "# third argument = file extension - json or anything else.\n",
    "FILE_EXTENSION=\"json\"\n",
    "\n",
    "# fourth argument = epsilon for DP\n",
    "DP_EPSILON=\"4.0\"\n",
    "\n",
    "# fifth argument = the highest N in n-grams to DP-extract\n",
    "NGRAM_SIZE_LIMIT=\"10\"\n",
    "\n",
    "#spark-submit dpne/tokenize_text.py -f json --ngrams $NGRAM_SIZE_LIMIT --max_num_tokens 400 --allow_multiple_ngrams 1 -i $SOURCE_DATASET -o ./$OUTPUT_FOLDER/tokenize_text -t $FILE_EXTENSION\n",
    "\n",
    "#spark-submit dpne/split_ngrams.py --ngram_size $NGRAM_SIZE_LIMIT -i ./$OUTPUT_FOLDER/tokenize_text -o ./$OUTPUT_FOLDER/split_ngrams -f $FILE_EXTENSION -t $FILE_EXTENSION\n",
    "\n",
    "# modified the hyperparams a bit\n",
    "spark-submit dpne/extract_dpne.py --dp_epsilon $DP_EPSILON --dp_eta 0.1 --dp_delta 0.5 --contribution_limit 10 --persist_flags 11 --log_flags 00 --top_k 1 --delta_user_count 0 --ngram_size $NGRAM_SIZE_LIMIT --filter_one_side 0 --budget_distribute 1.0 --estimate_sample_size 0.8 -i ./$OUTPUT_FOLDER/split_ngrams -o ./$OUTPUT_FOLDER/dpne_sample -f $FILE_EXTENSION -t $FILE_EXTENSION"
   ]
  },
  {
   "cell_type": "code",
   "execution_count": null,
   "id": "47c774e3-8156-4651-a244-227b563fb3e8",
   "metadata": {},
   "outputs": [],
   "source": []
  }
 ],
 "metadata": {
  "kernelspec": {
   "display_name": "Python 3 (ipykernel)",
   "language": "python",
   "name": "python3"
  },
  "language_info": {
   "codemirror_mode": {
    "name": "ipython",
    "version": 3
   },
   "file_extension": ".py",
   "mimetype": "text/x-python",
   "name": "python",
   "nbconvert_exporter": "python",
   "pygments_lexer": "ipython3",
   "version": "3.11.6"
  }
 },
 "nbformat": 4,
 "nbformat_minor": 5
}
